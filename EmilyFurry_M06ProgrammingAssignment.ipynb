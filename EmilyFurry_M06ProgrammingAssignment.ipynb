{
 "cells": [
  {
   "cell_type": "code",
   "execution_count": 1,
   "id": "b623532b",
   "metadata": {
    "scrolled": true
   },
   "outputs": [
    {
     "name": "stdout",
     "output_type": "stream",
     "text": [
      "2023-04-29 23:20:49.935405\n",
      "2023-04-29\n"
     ]
    }
   ],
   "source": [
    "from datetime import *\n",
    "\n",
    "# 13.1 Write the current date as a string to the text file today.txt.\n",
    "\n",
    "tdtxt = open(\"today.txt\", \"w\")\n",
    "\n",
    "today = datetime.now()\n",
    "\n",
    "today = str(today)\n",
    "\n",
    "tdtxt.write(today)\n",
    "\n",
    "tdtxt.close()\n",
    "# 13.2 Read the text file today.txt into the string today_string.\n",
    "tdtxt = open(\"today.txt\", \"r\")\n",
    "\n",
    "today_string = str(tdtxt.read())\n",
    "\n",
    "print(today_string)\n",
    "\n",
    "# 13.3 Parse the date from today_string.\n",
    "\n",
    "today_li = today_string.split(\" \")\n",
    "date = today_li[0]\n",
    "time = today_li[1]\n",
    "\n",
    "print(date)\n"
   ]
  },
  {
   "cell_type": "code",
   "execution_count": 7,
   "id": "156fa454",
   "metadata": {
    "scrolled": true
   },
   "outputs": [
    {
     "name": "stdout",
     "output_type": "stream",
     "text": [
      "<function rnd_secs.str_x at 0x000002973C5D1990>\n"
     ]
    },
    {
     "ename": "AttributeError",
     "evalue": "module 'datetime' has no attribute 'now'",
     "output_type": "error",
     "traceback": [
      "\u001b[1;31m---------------------------------------------------------------------------\u001b[0m",
      "\u001b[1;31mAttributeError\u001b[0m                            Traceback (most recent call last)",
      "Cell \u001b[1;32mIn[7], line 32\u001b[0m\n\u001b[0;32m     29\u001b[0m \u001b[38;5;28mprint\u001b[39m(x_1)\n\u001b[0;32m     31\u001b[0m time\u001b[38;5;241m.\u001b[39msleep(random\u001b[38;5;241m.\u001b[39mrandrange(\u001b[38;5;241m10\u001b[39m))\n\u001b[1;32m---> 32\u001b[0m \u001b[38;5;28mprint\u001b[39m(\u001b[43mdatetime\u001b[49m\u001b[38;5;241;43m.\u001b[39;49m\u001b[43mnow\u001b[49m())\n",
      "\u001b[1;31mAttributeError\u001b[0m: module 'datetime' has no attribute 'now'"
     ]
    }
   ],
   "source": [
    "# 15.1 Use multiprocessing to create three separate processes. Make each \n",
    "# one wait a random number of seconds between zero and one, print the \n",
    "# current time, and then exit.\n",
    "import random\n",
    "import time\n",
    "import subprocess as sb\n",
    "import multiprocessing as mp\n",
    "\n",
    "class rnd_secs:\n",
    "\n",
    "    def str_x():\n",
    "        x = random.randrange(10)\n",
    "        return int(x)\n",
    "\n",
    "    def y():\n",
    "        y = random.randrange(10)\n",
    "        return y\n",
    "\n",
    "    def z():\n",
    "        z = random.randrange(10)\n",
    "        return z\n",
    "\n",
    "    \n",
    "# Process 1 - wait x seconds, print current time\n",
    "\n",
    "x_1 = rnd_secs.str_x\n",
    "\n",
    "print(x_1)\n",
    "\n",
    "time.sleep(random.randrange(10))\n",
    "print(datetime.now())\n",
    "\n",
    "# I swear this function was working why doesn't it now??\n"
   ]
  },
  {
   "cell_type": "code",
   "execution_count": null,
   "id": "ae23bd8a",
   "metadata": {},
   "outputs": [],
   "source": []
  }
 ],
 "metadata": {
  "kernelspec": {
   "display_name": "Python 3 (ipykernel)",
   "language": "python",
   "name": "python3"
  },
  "language_info": {
   "codemirror_mode": {
    "name": "ipython",
    "version": 3
   },
   "file_extension": ".py",
   "mimetype": "text/x-python",
   "name": "python",
   "nbconvert_exporter": "python",
   "pygments_lexer": "ipython3",
   "version": "3.10.9"
  }
 },
 "nbformat": 4,
 "nbformat_minor": 5
}
